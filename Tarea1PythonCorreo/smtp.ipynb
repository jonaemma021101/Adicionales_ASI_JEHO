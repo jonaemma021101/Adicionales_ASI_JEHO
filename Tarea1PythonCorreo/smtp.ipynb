{
 "cells": [
  {
   "cell_type": "markdown",
   "id": "ffd99ff7",
   "metadata": {},
   "source": [
    "Administracion de Servicios de Internet\n",
    "\n",
    "Alumno: Jonathan Emmnauel Hernandez Ortiz     #Cuenta: 420054834\n",
    "\n",
    "Profesor: Angel Brito Segura\n",
    "\n",
    "Semestre 2025-2\n",
    "\n",
    "Envio de Correo al Profesor por SMTP\n"
   ]
  },
  {
   "cell_type": "code",
   "execution_count": null,
   "id": "a8ce7561",
   "metadata": {},
   "outputs": [],
   "source": [
    "import smtplib\n",
    "import ssl\n",
    "from email.mime.text import MIMEText\n",
    "from email.mime.multipart import MIMEMultipart"
   ]
  },
  {
   "cell_type": "markdown",
   "id": "9fa93860",
   "metadata": {},
   "source": [
    "Establecemos el correo del Emisor junto con su cotraseña de Aplicación"
   ]
  },
  {
   "cell_type": "code",
   "execution_count": null,
   "id": "29e0747a",
   "metadata": {},
   "outputs": [],
   "source": [
    "# Configuración del remitente\n",
    "EMAIL_ACCOUNT = \"ingjonathan.unamfi@gmail.com\"  # correo del alumno\n",
    "EMAIL_PASSWORD = \"tfkkqsozqadbbsds\"  # contraseña de aplicacion"
   ]
  },
  {
   "cell_type": "markdown",
   "id": "8e105ea3",
   "metadata": {},
   "source": [
    "Correo del Profesor que será el Receptor del correo"
   ]
  },
  {
   "cell_type": "code",
   "execution_count": null,
   "id": "694883fd",
   "metadata": {},
   "outputs": [],
   "source": [
    "# Configuración del destinatario\n",
    "TO_EMAIL = \"angel.brito@fi.unam.edu\""
   ]
  },
  {
   "cell_type": "markdown",
   "id": "3a097024",
   "metadata": {},
   "source": [
    "Asunto del correo y Cuerpo del Correo, contenido"
   ]
  },
  {
   "cell_type": "code",
   "execution_count": null,
   "id": "e8661804",
   "metadata": {},
   "outputs": [],
   "source": [
    "# Crear el mensaje\n",
    "subject = \"Correo Python SMTP JEHO\" #asunto del correo\n",
    "#cuerpo del correo\n",
    "body = \"Hola Profesor Ángel, este es un mensaje de prueba enviado desde Python por correo utilizando SMTP.Mi nombre es Jonathan Emmanuel Hernandez O>rtiz\""
   ]
  },
  {
   "cell_type": "code",
   "execution_count": null,
   "id": "c0cd7368",
   "metadata": {},
   "outputs": [],
   "source": [
    "msg = MIMEMultipart()\n",
    "msg[\"From\"] = EMAIL_ACCOUNT #emisor\n",
    "msg[\"To\"] = TO_EMAIL #receptor\n",
    "msg[\"Subject\"] = subject #asunto\n",
    "msg.attach(MIMEText(body, \"plain\")) #contenido"
   ]
  },
  {
   "cell_type": "markdown",
   "id": "e1bc038a",
   "metadata": {},
   "source": [
    "Establecemos comunicación por el puerto 587 y si no establece la conexión, manda error de provedor "
   ]
  },
  {
   "cell_type": "code",
   "execution_count": null,
   "id": "37bc62fe",
   "metadata": {},
   "outputs": [],
   "source": [
    "# Configuramos el proveedor de correo y configurarmos el protocolo de comunicación SMTP, junto con puertos de enlace\n",
    "if \"gmail.com\" in EMAIL_ACCOUNT:\n",
    "    smtp_server = \"smtp.gmail.com\"\n",
    "    smtp_port = 587\n",
    "elif \"outlook.com\" in EMAIL_ACCOUNT or \"hotmail.com\" in EMAIL_ACCOUNT:\n",
    "    smtp_server = \"smtp.office365.com\"\n",
    "    smtp_port = 587\n",
    "else:\n",
    "    raise ValueError(\"Proveedor de correo no soportado. Usa Gmail o Outlook.\")"
   ]
  },
  {
   "cell_type": "markdown",
   "id": "4e0d4315",
   "metadata": {},
   "source": [
    "Ya que establecimos comunicación, sigue el envio del correo iniciando sesión en le Emisor (yo) y envio del correo en el comando server.sendmail y si todo sale correctamente, el correo se envio correctamente."
   ]
  },
  {
   "cell_type": "code",
   "execution_count": null,
   "id": "21d68cc9",
   "metadata": {},
   "outputs": [],
   "source": [
    "# Enviar el correo\n",
    "try:\n",
    "    context = ssl.create_default_context()\n",
    "    server = smtplib.SMTP(smtp_server, smtp_port) #puerto de enlace\n",
    "    server.starttls(context=context)\n",
    "    server.login(EMAIL_ACCOUNT, EMAIL_PASSWORD) #iniciamos sesion\n",
    "    server.sendmail(EMAIL_ACCOUNT, TO_EMAIL, msg.as_string()) #enviamos correo\n",
    "    server.quit() #cerramos el servidor\n",
    "    print(\"Correo enviado exitosamente.\")\n",
    "except Exception as e:\n",
    "    print(f\"Error al enviar el correo: {e}\")"
   ]
  }
 ],
 "metadata": {
  "jupytext": {
   "cell_metadata_filter": "-all",
   "main_language": "python",
   "notebook_metadata_filter": "-all"
  },
  "language_info": {
   "name": "python"
  }
 },
 "nbformat": 4,
 "nbformat_minor": 5
}
